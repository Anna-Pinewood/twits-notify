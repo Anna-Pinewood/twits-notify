{
 "cells": [
  {
   "cell_type": "code",
   "execution_count": 1,
   "metadata": {},
   "outputs": [],
   "source": [
    "import sys\n",
    "import os\n",
    "from pathlib import Path\n",
    "path_project = Path(os.getcwd()).parent # /home/o.lipina/workspace/rucubrik\n",
    "path_src = path_project / 'core'  # /home/o.lipina/workspace/rucubrik/src\n",
    "sys.path.append(str(path_src))\n",
    "sys.path.append(str(path_project))\n",
    "\n",
    "%load_ext autoreload\n",
    "%autoreload 2"
   ]
  },
  {
   "cell_type": "code",
   "execution_count": null,
   "metadata": {},
   "outputs": [],
   "source": [
    "import requests\n",
    "import json\n",
    "import logging\n",
    "import json\n",
    "import pandas as pd\n",
    "from omegaconf import OmegaConf\n",
    "import pickle\n",
    "from pathlib import Path\n",
    "import re\n",
    "import random\n",
    "import time\n",
    "from tqdm import tqdm\n",
    "from urllib.parse import urlparse\n",
    "import warnings\n",
    "warnings.simplefilter(\"ignore\")\n",
    "import numpy as np\n",
    "\n",
    "random.seed(42)\n",
    "np.random.seed(42)"
   ]
  },
  {
   "cell_type": "code",
   "execution_count": null,
   "metadata": {},
   "outputs": [],
   "source": [
    "import tweepy\n",
    "\n",
    "# Your API credentials\n",
    "consumer_key = \"YOUR_CONSUMER_KEY\"\n",
    "consumer_secret = \"YOUR_CONSUMER_SECRET\"\n",
    "access_key = \"YOUR_ACCESS_KEY\"\n",
    "access_secret = \"YOUR_ACCESS_SECRET\"\n",
    "\n",
    "# Authenticate\n",
    "auth = tweepy.OAuthHandler(consumer_key, consumer_secret)\n",
    "auth.set_access_token(access_key, access_secret)\n",
    "\n",
    "# Create API object\n",
    "api = tweepy.API(auth)\n",
    "\n",
    "# Fetch tweets\n",
    "def get_tweets(username, num_tweets=200):\n",
    "    tweets = api.user_timeline(screen_name=username, count=num_tweets)\n",
    "    return [tweet.text for tweet in tweets]\n",
    "\n",
    "# Example usage\n",
    "tweets = get_tweets(\"twitter-handle\")\n",
    "for tweet in tweets:\n",
    "    print(tweet)\n"
   ]
  }
 ],
 "metadata": {
  "kernelspec": {
   "display_name": ".venv",
   "language": "python",
   "name": "python3"
  },
  "language_info": {
   "codemirror_mode": {
    "name": "ipython",
    "version": 3
   },
   "file_extension": ".py",
   "mimetype": "text/x-python",
   "name": "python",
   "nbconvert_exporter": "python",
   "pygments_lexer": "ipython3",
   "version": "3.10.12"
  }
 },
 "nbformat": 4,
 "nbformat_minor": 2
}
